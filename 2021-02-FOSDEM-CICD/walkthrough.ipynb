{
 "cells": [
  {
   "cell_type": "markdown",
   "metadata": {},
   "source": [
    "## Installation\n",
    "### Prerequisites\n",
    "- Kubernetes cluster with Windows node\n",
    "- `kubectl` & `helm` CLIs installed\n",
    "\n",
    "### Installing Argo Workflows\n",
    "\n",
    "Installing CLI:"
   ]
  },
  {
   "cell_type": "code",
   "execution_count": null,
   "metadata": {
    "dotnet_interactive": {
     "language": "pwsh"
    }
   },
   "outputs": [
    {
     "name": "stdout",
     "output_type": "stream",
     "text": [
      "\r\n",
      "7-Zip 21.07 (x64) : Copyright (c) 1999-2021 Igor Pavlov : 2021-12-26\r\n",
      "\r\n",
      "Scanning the drive for archives:\r\n",
      "1 file, 45352274 bytes (44 MiB)\r\n",
      "\r\n",
      "Extracting archive: .\\argo.gz\r\n",
      "--\r\n",
      "Path = .\\argo.gz\r\n",
      "Type = gzip\r\n",
      "Headers Size = 29\r\n",
      "\r\n",
      "Everything is Ok\r\n",
      "\r\n",
      "Size:       98096640\r\n",
      "Compressed: 45352274\r\n"
     ]
    }
   ],
   "source": [
    "curl.exe -o argo.gz -LOs \"https://github.com/argoproj/argo-workflows/releases/download/v3.2.6/argo-windows-amd64.gz\"\n",
    "7z.exe x .\\argo.gz\n",
    "mv .\\argo-windows-amd64 .\\argo.exe -Force"
   ]
  },
  {
   "cell_type": "markdown",
   "metadata": {},
   "source": [
    "Installing Helm Chart:"
   ]
  },
  {
   "cell_type": "code",
   "execution_count": null,
   "metadata": {
    "dotnet_interactive": {
     "language": "pwsh"
    }
   },
   "outputs": [
    {
     "name": "stdout",
     "output_type": "stream",
     "text": [
      "\"argo\" already exists with the same configuration, skipping\r\n",
      "Release \"argo-workflows\" has been upgraded. Happy Helming!\r\n",
      "NAME: argo-workflows\r\n",
      "LAST DEPLOYED: Wed Jan 12 15:31:36 2022\r\n",
      "NAMESPACE: argo\r\n",
      "STATUS: deployed\r\n",
      "REVISION: 7\r\n",
      "TEST SUITE: None\r\n",
      "NOTES:\r\n",
      "1. Get Argo Server external IP/domain by running:\r\n",
      "\r\n",
      "kubectl --namespace argo get services -o wide | grep argo-workflows-server\r\n",
      "\r\n",
      "2. Submit the hello-world workflow by running:\r\n",
      "\r\n",
      "argo submit https://raw.githubusercontent.com/argoproj/argo-workflows/master/examples/hello-world.yaml --watch\r\n"
     ]
    }
   ],
   "source": [
    "helm repo add argo https://argoproj.github.io/argo-helm\n",
    "helm upgrade argo-workflows argo/argo-workflows --install --version 0.9.4 -n argo --create-namespace --set server.serviceType=LoadBalancer --set workflow.serviceAccount.name=default --set controller.containerRuntimeExecutor=emissary"
   ]
  },
  {
   "cell_type": "markdown",
   "metadata": {},
   "source": [
    "Getting dashboard URL and token for auth:"
   ]
  },
  {
   "cell_type": "code",
   "execution_count": null,
   "metadata": {
    "dotnet_interactive": {
     "language": "pwsh"
    }
   },
   "outputs": [
    {
     "name": "stdout",
     "output_type": "stream",
     "text": [
      "http://40.74.19.240:2746\r\n",
      "Bearer 0afb85a47a4232c1409b4ff2df9e7b4158ac979b55a366470b9a4eddfa1ce89fad2b84cba7e9db9f5726cbe3b4d6fb1fd902e6b6ce6fcb469fd342a254623a8a\r\n"
     ]
    }
   ],
   "source": [
    "$ip=$(kubectl get svc argo-workflows-server -n argo --template \"{{ range (index .status.loadBalancer.ingress 0) }}{{.}}{{ end }}\")\n",
    "Write-Host \"http://$($ip):2746\"\n",
    ".\\argo.exe auth token"
   ]
  },
  {
   "cell_type": "markdown",
   "metadata": {},
   "source": [
    "### Installing Tekton\n",
    "\n",
    "Installing Tekton Pipelines with disabled affinity assistant (not working yet with Windows Containers) as well as the Tekton dashboard:"
   ]
  },
  {
   "cell_type": "code",
   "execution_count": null,
   "metadata": {
    "dotnet_interactive": {
     "language": "pwsh"
    }
   },
   "outputs": [
    {
     "name": "stdout",
     "output_type": "stream",
     "text": [
      "namespace/tekton-pipelines unchanged\r\n",
      "Warning: policy/v1beta1 PodSecurityPolicy is deprecated in v1.21+, unavailable in v1.25+\r\n",
      "podsecuritypolicy.policy/tekton-pipelines configured\r\n",
      "clusterrole.rbac.authorization.k8s.io/tekton-pipelines-controller-cluster-access unchanged\r\n",
      "clusterrole.rbac.authorization.k8s.io/tekton-pipelines-controller-tenant-access unchanged\r\n",
      "clusterrole.rbac.authorization.k8s.io/tekton-pipelines-webhook-cluster-access unchanged\r\n",
      "role.rbac.authorization.k8s.io/tekton-pipelines-controller unchanged\r\n",
      "role.rbac.authorization.k8s.io/tekton-pipelines-webhook unchanged\r\n",
      "role.rbac.authorization.k8s.io/tekton-pipelines-leader-election unchanged\r\n",
      "role.rbac.authorization.k8s.io/tekton-pipelines-info unchanged\r\n",
      "serviceaccount/tekton-pipelines-controller unchanged\r\n",
      "serviceaccount/tekton-pipelines-webhook unchanged\r\n",
      "clusterrolebinding.rbac.authorization.k8s.io/tekton-pipelines-controller-cluster-access unchanged\r\n",
      "clusterrolebinding.rbac.authorization.k8s.io/tekton-pipelines-controller-tenant-access unchanged\r\n",
      "clusterrolebinding.rbac.authorization.k8s.io/tekton-pipelines-webhook-cluster-access unchanged\r\n",
      "rolebinding.rbac.authorization.k8s.io/tekton-pipelines-controller unchanged\r\n",
      "rolebinding.rbac.authorization.k8s.io/tekton-pipelines-webhook unchanged\r\n",
      "rolebinding.rbac.authorization.k8s.io/tekton-pipelines-controller-leaderelection unchanged\r\n",
      "rolebinding.rbac.authorization.k8s.io/tekton-pipelines-webhook-leaderelection unchanged\r\n",
      "rolebinding.rbac.authorization.k8s.io/tekton-pipelines-info unchanged\r\n",
      "customresourcedefinition.apiextensions.k8s.io/clustertasks.tekton.dev configured\r\n",
      "customresourcedefinition.apiextensions.k8s.io/conditions.tekton.dev unchanged\r\n",
      "customresourcedefinition.apiextensions.k8s.io/pipelines.tekton.dev configured\r\n",
      "customresourcedefinition.apiextensions.k8s.io/pipelineruns.tekton.dev configured\r\n",
      "customresourcedefinition.apiextensions.k8s.io/pipelineresources.tekton.dev unchanged\r\n",
      "customresourcedefinition.apiextensions.k8s.io/runs.tekton.dev configured\r\n",
      "customresourcedefinition.apiextensions.k8s.io/tasks.tekton.dev configured\r\n",
      "customresourcedefinition.apiextensions.k8s.io/taskruns.tekton.dev configured\r\n",
      "secret/webhook-certs unchanged\r\n",
      "validatingwebhookconfiguration.admissionregistration.k8s.io/validation.webhook.pipeline.tekton.dev unchanged\r\n",
      "mutatingwebhookconfiguration.admissionregistration.k8s.io/webhook.pipeline.tekton.dev unchanged\r\n",
      "validatingwebhookconfiguration.admissionregistration.k8s.io/config.webhook.pipeline.tekton.dev unchanged\r\n",
      "clusterrole.rbac.authorization.k8s.io/tekton-aggregate-edit unchanged\r\n",
      "clusterrole.rbac.authorization.k8s.io/tekton-aggregate-view unchanged\r\n",
      "configmap/config-artifact-bucket unchanged\r\n",
      "configmap/config-artifact-pvc unchanged\r\n",
      "configmap/config-defaults unchanged\r\n",
      "configmap/feature-flags configured\r\n",
      "configmap/pipelines-info unchanged\r\n",
      "configmap/config-leader-election unchanged\r\n",
      "configmap/config-logging unchanged\r\n",
      "configmap/config-observability unchanged\r\n",
      "configmap/config-registry-cert unchanged\r\n",
      "deployment.apps/tekton-pipelines-controller unchanged\r\n",
      "service/tekton-pipelines-controller unchanged\r\n",
      "Warning: autoscaling/v2beta1 HorizontalPodAutoscaler is deprecated in v1.22+, unavailable in v1.25+; use autoscaling/v2beta2 HorizontalPodAutoscaler\r\n",
      "horizontalpodautoscaler.autoscaling/tekton-pipelines-webhook unchanged\r\n",
      "deployment.apps/tekton-pipelines-webhook unchanged\r\n",
      "service/tekton-pipelines-webhook unchanged\r\n",
      "configmap/feature-flags patched\r\n",
      "customresourcedefinition.apiextensions.k8s.io/extensions.dashboard.tekton.dev configured\r\n",
      "serviceaccount/tekton-dashboard unchanged\r\n",
      "role.rbac.authorization.k8s.io/tekton-dashboard-info unchanged\r\n",
      "clusterrole.rbac.authorization.k8s.io/tekton-dashboard-backend unchanged\r\n",
      "clusterrole.rbac.authorization.k8s.io/tekton-dashboard-tenant unchanged\r\n",
      "rolebinding.rbac.authorization.k8s.io/tekton-dashboard-info unchanged\r\n",
      "clusterrolebinding.rbac.authorization.k8s.io/tekton-dashboard-backend unchanged\r\n",
      "configmap/dashboard-info unchanged\r\n",
      "service/tekton-dashboard unchanged\r\n",
      "deployment.apps/tekton-dashboard configured\r\n",
      "clusterrolebinding.rbac.authorization.k8s.io/tekton-dashboard-tenant unchanged\r\n",
      "service/tekton-dashboard patched (no change)\r\n"
     ]
    }
   ],
   "source": [
    "# Using 0.30 because of https://github.com/tektoncd/pipeline/issues/4457\n",
    "kubectl apply --filename https://storage.googleapis.com/tekton-releases/pipeline/previous/v0.30.0/release.yaml\n",
    "# Disable affinity assistant because of https://github.com/tektoncd/pipeline/issues/4471\n",
    "kubectl patch cm feature-flags -n tekton-pipelines -p '{\\\"data\\\": {\\\"disable-affinity-assistant\\\": \\\"true\\\"}}'\n",
    "\n",
    "kubectl apply --filename https://storage.googleapis.com/tekton-releases/dashboard/latest/tekton-dashboard-release.yaml\n",
    "# Make dashboard available via loadbalancer\n",
    "kubectl patch svc tekton-dashboard -n tekton-pipelines -p '{\\\"spec\\\": {\\\"type\\\": \\\"LoadBalancer\\\"}}'"
   ]
  },
  {
   "cell_type": "markdown",
   "metadata": {},
   "source": [
    "Getting dashboard URL:"
   ]
  },
  {
   "cell_type": "code",
   "execution_count": null,
   "metadata": {
    "dotnet_interactive": {
     "language": "pwsh"
    }
   },
   "outputs": [
    {
     "name": "stdout",
     "output_type": "stream",
     "text": [
      "http://20.61.241.229:9097\r\n"
     ]
    }
   ],
   "source": [
    "$ip=$(kubectl get svc tekton-dashboard -n tekton-pipelines --template \"{{ range (index .status.loadBalancer.ingress 0) }}{{.}}{{ end }}\")\n",
    "Write-Host \"http://$($ip):9097\""
   ]
  },
  {
   "cell_type": "markdown",
   "metadata": {},
   "source": [
    "## Running pipelines\n",
    "\n",
    "We build, test & create a Windows container image for our [example .NET app](./example-app/Program.cs).\n",
    "\n",
    "For pushing the image, we add our Docker registry credentials to the cluster (assuming you don't use an external credential store):"
   ]
  },
  {
   "cell_type": "code",
   "execution_count": null,
   "metadata": {
    "dotnet_interactive": {
     "language": "pwsh"
    }
   },
   "outputs": [
    {
     "name": "stdout",
     "output_type": "stream",
     "text": [
      "error: failed to create secret secrets \"docker-config\" already exists\r\n"
     ]
    }
   ],
   "source": [
    "kubectl create secret generic docker-config --from-file=$env:USERPROFILE\\.docker\\config.json"
   ]
  },
  {
   "cell_type": "markdown",
   "metadata": {},
   "source": [
    "### Cross-compiling in Linux build stage\n",
    "\n",
    "BuildKit makes it possible to run a Linux build stage before our final Windows build stage as visible in [`example-app/Dockerfile.cross`](./example-app/Dockerfile.cross).\n",
    "\n",
    "The pipelines  basically just need to build our container image as building the binary and running tests is included."
   ]
  },
  {
   "cell_type": "code",
   "execution_count": null,
   "metadata": {
    "dotnet_interactive": {
     "language": "pwsh"
    }
   },
   "outputs": [
    {
     "name": "stdout",
     "output_type": "stream",
     "text": [
      "pipelinerun.tekton.dev/cross-buildkit created\r\n",
      "workflow.argoproj.io/cross-buildkit created\r\n"
     ]
    }
   ],
   "source": [
    "kubectl apply -f .\\pipelines\\cross\\tekton-buildkit.yml\n",
    "kubectl apply -f .\\pipelines\\cross\\argo-buildkit.yml"
   ]
  },
  {
   "cell_type": "markdown",
   "metadata": {},
   "source": [
    "While they run you can look at the definitions:\n",
    "- [`pipelines/cross/argo-buildkit.yml`](./pipelines/cross/argo-buildkit.yml)\n",
    "- [`pipelines/cross/tekton-buildkit.yml`](./pipelines/cross/tekton-buildkit.yml)\n",
    "\n",
    "You can also look at the pipelines via the dashboards. \n",
    "\n",
    "As soon as they're successful, you can validate the created images with:"
   ]
  },
  {
   "cell_type": "code",
   "execution_count": null,
   "metadata": {
    "dotnet_interactive": {
     "language": "pwsh"
    }
   },
   "outputs": [],
   "source": [
    "docker run --rm --pull always lippertmarkus/test:cross-tekton-buildkit\n",
    "docker run --rm --pull always lippertmarkus/test:cross-argo-buildkit"
   ]
  },
  {
   "cell_type": "markdown",
   "metadata": {},
   "source": [
    "### Compile out of image build\n",
    "\n",
    "When compiling outside the image build we use separate steps in the pipeline to build the binary and run tests. Building the  Windows container image just uses that binary created before.\n",
    "\n",
    "The `Dockerfile` for Buildkit can be found in [`example-app/Dockerfile.out`](./example-app/Dockerfile.out). `crane` isn't using that `Dockerfile` but is basically doing the same. All pipelines can be run with:\n",
    "\n"
   ]
  },
  {
   "cell_type": "code",
   "execution_count": null,
   "metadata": {
    "dotnet_interactive": {
     "language": "pwsh"
    }
   },
   "outputs": [
    {
     "name": "stdout",
     "output_type": "stream",
     "text": [
      "pipelinerun.tekton.dev/out-buildkit created\r\n",
      "workflow.argoproj.io/out-buildkit created\r\n",
      "pipelinerun.tekton.dev/out-crane created\r\n",
      "workflow.argoproj.io/out-crane created\r\n"
     ]
    }
   ],
   "source": [
    "# BuildKit\n",
    "kubectl apply -f .\\pipelines\\out\\tekton-buildkit.yml\n",
    "kubectl apply -f .\\pipelines\\out\\argo-buildkit.yml\n",
    "\n",
    "# crane\n",
    "kubectl apply -f .\\pipelines\\out\\tekton-crane.yml\n",
    "kubectl apply -f .\\pipelines\\out\\argo-crane.yml"
   ]
  },
  {
   "cell_type": "markdown",
   "metadata": {},
   "source": [
    "While they run you can look at the definitions:\n",
    "- BuildKit\n",
    "    - [`pipelines/out/argo-buildkit.yml`](./pipelines/out/argo-buildkit.yml)\n",
    "    - [`pipelines/out/tekton-buildkit.yml`](./pipelines/out/tekton-buildkit.yml)\n",
    "- `crane`\n",
    "    - [`pipelines/out/argo-crane.yml`](./pipelines/out/argo-crane.yml)\n",
    "    - [`pipelines/out/tekton-crane.yml`](./pipelines/out/tekton-crane.yml)\n",
    "\n",
    "Also look at the dashboards to see what exactly is happening. \n",
    "\n",
    "As soon as they're successful, you can validate the created images with:"
   ]
  },
  {
   "cell_type": "code",
   "execution_count": null,
   "metadata": {
    "dotnet_interactive": {
     "language": "pwsh"
    }
   },
   "outputs": [],
   "source": [
    "# BuildKit\n",
    "docker run --rm --pull always lippertmarkus/test:out-tekton-buildkit\n",
    "docker run --rm --pull always lippertmarkus/test:out-argo-buildkit\n",
    "\n",
    "# crane\n",
    "docker run --rm --pull always lippertmarkus/test:out-tekton-crane\n",
    "docker run --rm --pull always lippertmarkus/test:out-argo-crane"
   ]
  }
 ],
 "metadata": {
  "interpreter": {
   "hash": "63fd5069d213b44bf678585dea6b12cceca9941eaf7f819626cde1f2670de90d"
  },
  "kernelspec": {
   "display_name": ".NET (C#)",
   "language": "C#",
   "name": ".net-csharp"
  },
  "language_info": {
   "file_extension": ".cs",
   "mimetype": "text/x-csharp",
   "name": "C#",
   "pygments_lexer": "csharp",
   "version": "9.0"
  },
  "orig_nbformat": 4
 },
 "nbformat": 4,
 "nbformat_minor": 2
}
