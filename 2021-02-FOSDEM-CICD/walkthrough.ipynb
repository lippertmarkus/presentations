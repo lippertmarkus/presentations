{
 "cells": [
  {
   "cell_type": "markdown",
   "metadata": {},
   "source": [
    "## Installation\n",
    "### Prerequisites\n",
    "- Kubernetes Cluster with Windows node\n",
    "- `kubectl` & `helm` installed\n",
    "\n",
    "### Installing Argo Workflows\n",
    "\n",
    "Installing CLI:"
   ]
  },
  {
   "cell_type": "code",
   "execution_count": null,
   "metadata": {
    "dotnet_interactive": {
     "language": "pwsh"
    }
   },
   "outputs": [],
   "source": [
    "curl.exe -o argo.gz -LOs \"https://github.com/argoproj/argo-workflows/releases/download/v3.2.6/argo-windows-amd64.gz\"\n",
    "7z.exe x .\\argo.gz\n",
    "mv .\\argo-windows-amd64 .\\argo.exe -Force"
   ]
  },
  {
   "cell_type": "markdown",
   "metadata": {},
   "source": [
    "Installing Helm Chart:"
   ]
  },
  {
   "cell_type": "code",
   "execution_count": null,
   "metadata": {
    "dotnet_interactive": {
     "language": "pwsh"
    }
   },
   "outputs": [],
   "source": [
    "helm repo add argo https://argoproj.github.io/argo-helm\n",
    "helm upgrade argo-workflows argo/argo-workflows --install --version 0.9.4 -n argo --create-namespace --set server.serviceType=LoadBalancer --set workflow.serviceAccount.name=default --set controller.containerRuntimeExecutor=emissary"
   ]
  },
  {
   "cell_type": "markdown",
   "metadata": {},
   "source": [
    "Getting dashboard URL and token for auth:"
   ]
  },
  {
   "cell_type": "code",
   "execution_count": null,
   "metadata": {
    "dotnet_interactive": {
     "language": "pwsh"
    }
   },
   "outputs": [],
   "source": [
    "$ip=$(kubectl get svc argo-workflows-server -n argo --template \"{{ range (index .status.loadBalancer.ingress 0) }}{{.}}{{ end }}\")\n",
    "Write-Host \"http://$($ip):2746\"\n",
    ".\\argo.exe auth token"
   ]
  },
  {
   "cell_type": "markdown",
   "metadata": {},
   "source": [
    "### Installing Tekton\n",
    "\n",
    "Installing Tekton Pipelines with disabled affinity assistant (not working yet with Windows Containers) as well as the Tekton dashboard:"
   ]
  },
  {
   "cell_type": "code",
   "execution_count": null,
   "metadata": {
    "dotnet_interactive": {
     "language": "pwsh"
    }
   },
   "outputs": [],
   "source": [
    "kubectl apply --filename https://storage.googleapis.com/tekton-releases/pipeline/previous/v0.30.0/release.yaml\n",
    "kubectl patch cm feature-flags -n tekton-pipelines -p '{\\\"data\\\": {\\\"disable-affinity-assistant\\\": \\\"true\\\"}}'\n",
    "\n",
    "kubectl apply --filename https://storage.googleapis.com/tekton-releases/dashboard/latest/tekton-dashboard-release.yaml\n",
    "# Make dasboard available via loadbalancer\n",
    "kubectl patch svc tekton-dashboard -n tekton-pipelines -p '{\\\"spec\\\": {\\\"type\\\": \\\"LoadBalancer\\\"}}'"
   ]
  },
  {
   "cell_type": "markdown",
   "metadata": {},
   "source": [
    "Getting dashboard URL:"
   ]
  },
  {
   "cell_type": "code",
   "execution_count": null,
   "metadata": {
    "dotnet_interactive": {
     "language": "pwsh"
    }
   },
   "outputs": [],
   "source": [
    "$ip=$(kubectl get svc tekton-dashboard -n tekton-pipelines --template \"{{ range (index .status.loadBalancer.ingress 0) }}{{.}}{{ end }}\")\n",
    "Write-Host \"http://$($ip):9097\""
   ]
  },
  {
   "cell_type": "markdown",
   "metadata": {},
   "source": [
    "## Running pipelines\n",
    "\n",
    "We build, test & create a Windows container image for our [example .NET app](./example-app/Program.cs).\n",
    "\n",
    "For pushing the image, we add our Docker registry credentials to the cluster (assuming you don't use an external credential store):"
   ]
  },
  {
   "cell_type": "code",
   "execution_count": null,
   "metadata": {
    "dotnet_interactive": {
     "language": "pwsh"
    }
   },
   "outputs": [],
   "source": [
    "kubectl create secret generic docker-config --from-file=$env:USERPROFILE\\.docker\\config.json"
   ]
  },
  {
   "cell_type": "markdown",
   "metadata": {},
   "source": [
    "### Cross-compiling in Linux build stage\n",
    "\n",
    "BuildKit makes it possible to run a Linux build stage before our final Windows build stage as shown in [`example-app/Dockerfile.cross`](./example-app/Dockerfile.cross).\n",
    "\n",
    "The pipelines  basically just need to build our container image as building the binary and running tests is included."
   ]
  },
  {
   "cell_type": "code",
   "execution_count": null,
   "metadata": {
    "dotnet_interactive": {
     "language": "pwsh"
    }
   },
   "outputs": [],
   "source": [
    "kubectl apply -f .\\pipelines\\cross\\argo-buildkit.yml\n",
    "kubectl apply -f .\\pipelines\\cross\\tekton-buildkit.yml"
   ]
  },
  {
   "cell_type": "markdown",
   "metadata": {},
   "source": [
    "While they run you can look at the definitions:\n",
    "- [`pipelines/cross/argo-buildkit.yml`](./pipelines/cross/argo-buildkit.yml)\n",
    "- [`pipelines/cross/tekton-buildkit.yml`](./pipelines/cross/argo-buildkit.yml)\n",
    "\n",
    "You can also look at the pipelines via the dashboards. As soon as they're successful, you can try out the created images with:"
   ]
  },
  {
   "cell_type": "code",
   "execution_count": null,
   "metadata": {
    "dotnet_interactive": {
     "language": "pwsh"
    }
   },
   "outputs": [],
   "source": [
    "docker run --rm --pull always lippertmarkus/test:cross-argo-buildkit\n",
    "docker run --rm --pull always lippertmarkus/test:cross-tekton-buildkit"
   ]
  },
  {
   "cell_type": "markdown",
   "metadata": {},
   "source": [
    "### Compile out of image build"
   ]
  }
 ],
 "metadata": {
  "interpreter": {
   "hash": "63fd5069d213b44bf678585dea6b12cceca9941eaf7f819626cde1f2670de90d"
  },
  "kernelspec": {
   "display_name": ".NET (C#)",
   "language": "C#",
   "name": ".net-csharp"
  },
  "language_info": {
   "file_extension": ".cs",
   "mimetype": "text/x-csharp",
   "name": "C#",
   "pygments_lexer": "csharp",
   "version": "9.0"
  },
  "orig_nbformat": 4
 },
 "nbformat": 4,
 "nbformat_minor": 2
}
